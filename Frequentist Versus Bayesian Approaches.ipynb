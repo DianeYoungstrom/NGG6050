{
 "cells": [
  {
   "cell_type": "markdown",
   "id": "dfb67f8e",
   "metadata": {},
   "source": [
    "## Exercise #1: If someone gets a positive test, is it \"statistically significant\" at the p<0.05 level? Why or why not?\n",
    "\n",
    "A positive test result is **not** \"statistically significant\" at the 𝑝<0.05 level because the false positive rate is exactly 5%, which is exactly the same as the alpha/ significance level of p=0.05. Therefore, one cannot confidently reject the null hypothesis. \n",
    "\n",
    "To further prove this point, the HIV incidence is 0.6% according to WHO. Therefore, in a 1000 person sample:\n",
    " * True Positive: 1000 x 6/1000 = 6 people \n",
    " * False Positive: 1000 x (1000-6)/1000 x 0.05 = 49.7\n",
    " In a 1000 person sample, someone receiving a positive HIV test can only be 10.77% confident (6/(49.7+6) = 0.1077) that it correctly indicates they have HIV. Therefore, the test is not \"statistically significant\" at the p<0.05 level. "
   ]
  },
  {
   "cell_type": "markdown",
   "id": "30d4305a",
   "metadata": {},
   "source": [
    "## Exercise #2: What is the probability that if someone gets a positive test, that person is infected?\n",
    "\n",
    "Let's do the same thing, but this time we will try different values for the proportion of the population that is actually infected. What you should notice is that the PROPORTION INFECTED GIVEN A POSITIVE TEST depends (a lot!) on the OVERALL RATE OF INFECTION. Put another way, to determine the probabilty of a hypothesis, given your data (e.g., proportion infected given a positive test), you have to know the probability that the hypothesis was true without any data.\n",
    "\n",
    "For this exercise, assume a range of priors (infection rates) from 0 to 1 in steps of 0.1.\n",
    "\n",
    "I will use an HIV incidence of 0.6% based on WHO data from this website: https://www.who.int/data/gho/data/themes/hiv-aids#:~:text=Globally%2C%2039.9%20million%20%5B36.1%E2%80%93,considerably%20between%20countries%20and%20regions."
   ]
  },
  {
   "cell_type": "code",
   "execution_count": 6,
   "id": "b93b4a51",
   "metadata": {},
   "outputs": [
    {
     "name": "stdout",
     "output_type": "stream",
     "text": [
      "The probability of true HIV infection given an incidence of 0.6% is: 0.10771992818671454\n",
      "Incidence rate: 0.0\n",
      "Total positive tests: 50.0\n",
      "Probability of true infection (being infected given a positive test): 0.0\n",
      "--------------------\n",
      "Incidence rate: 0.1\n",
      "Total positive tests: 145.0\n",
      "Probability of true infection (being infected given a positive test): 0.6896551724137931\n",
      "--------------------\n",
      "Incidence rate: 0.2\n",
      "Total positive tests: 240.0\n",
      "Probability of true infection (being infected given a positive test): 0.8333333333333334\n",
      "--------------------\n",
      "Incidence rate: 0.30000000000000004\n",
      "Total positive tests: 335.00000000000006\n",
      "Probability of true infection (being infected given a positive test): 0.8955223880597015\n",
      "--------------------\n",
      "Incidence rate: 0.4\n",
      "Total positive tests: 430.0\n",
      "Probability of true infection (being infected given a positive test): 0.9302325581395349\n",
      "--------------------\n",
      "Incidence rate: 0.5\n",
      "Total positive tests: 525.0\n",
      "Probability of true infection (being infected given a positive test): 0.9523809523809523\n",
      "--------------------\n",
      "Incidence rate: 0.6000000000000001\n",
      "Total positive tests: 620.0000000000001\n",
      "Probability of true infection (being infected given a positive test): 0.967741935483871\n",
      "--------------------\n",
      "Incidence rate: 0.7000000000000001\n",
      "Total positive tests: 715.0000000000001\n",
      "Probability of true infection (being infected given a positive test): 0.9790209790209791\n",
      "--------------------\n",
      "Incidence rate: 0.8\n",
      "Total positive tests: 810.0\n",
      "Probability of true infection (being infected given a positive test): 0.9876543209876543\n",
      "--------------------\n",
      "Incidence rate: 0.9\n",
      "Total positive tests: 905.0\n",
      "Probability of true infection (being infected given a positive test): 0.994475138121547\n",
      "--------------------\n",
      "Incidence rate: 1.0\n",
      "Total positive tests: 1000.0\n",
      "Probability of true infection (being infected given a positive test): 1.0\n",
      "--------------------\n"
     ]
    }
   ],
   "source": [
    "import numpy as np\n",
    "\n",
    "incidence = 0.006\n",
    "population = 1000\n",
    "false_pos_rate = 0.05\n",
    "\n",
    "true_pos = population * incidence\n",
    "false_pos = population * (1-incidence) * false_pos_rate\n",
    "total_pos = true_pos + false_pos\n",
    "\n",
    "# Probability of true HIV infection (according to Bayes' theorem)\n",
    "probability_true_infection = true_pos / (true_pos + false_pos)\n",
    "print(\"The probability of true HIV infection given an incidence of 0.6% is:\", probability_true_infection)\n",
    "\n",
    "# Loop through incidence rates from 0 to 1 in steps of 0.1\n",
    "for incidence in np.arange(0, 1.1, 0.1):\n",
    "    print(f'Incidence rate: {incidence}')\n",
    "    \n",
    "    # Calculate the true positive, false positives, total positives, and probability of true HIV infection\n",
    "    true_pos = population * incidence\n",
    "    false_pos = population * (1-incidence) * false_pos_rate\n",
    "    total_pos = true_pos + false_pos\n",
    "    probability_true_infection = true_pos / (true_pos + false_pos)\n",
    "    \n",
    "    # Print statements for current HIV infection incidence rate\n",
    "    print(\"Total positive tests:\", total_pos)\n",
    "    print(\"Probability of true infection (being infected given a positive test):\", probability_true_infection)\n",
    "    print(\"--------------------\")\n",
    "    \n",
    "    \n",
    "          "
   ]
  },
  {
   "cell_type": "code",
   "execution_count": null,
   "id": "268349c2",
   "metadata": {},
   "outputs": [],
   "source": []
  }
 ],
 "metadata": {
  "kernelspec": {
   "display_name": "Python 3 (ipykernel)",
   "language": "python",
   "name": "python3"
  },
  "language_info": {
   "codemirror_mode": {
    "name": "ipython",
    "version": 3
   },
   "file_extension": ".py",
   "mimetype": "text/x-python",
   "name": "python",
   "nbconvert_exporter": "python",
   "pygments_lexer": "ipython3",
   "version": "3.11.4"
  }
 },
 "nbformat": 4,
 "nbformat_minor": 5
}
