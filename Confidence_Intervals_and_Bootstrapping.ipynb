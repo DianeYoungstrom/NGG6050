{
 "cells": [
  {
   "cell_type": "markdown",
   "id": "0c1eda1b",
   "metadata": {},
   "source": [
    "Compute confidence/credible intervals based on the four methods above for simulated data sampled from a population that is Gaussian distributed with mean=10 and standard deviation=2, for n=5, 10, 20, 40, 80, 160, 1000 at a 95% confidence level."
   ]
  },
  {
   "cell_type": "code",
   "execution_count": 1,
   "id": "70d986b6",
   "metadata": {},
   "outputs": [
    {
     "name": "stdout",
     "output_type": "stream",
     "text": [
      "\n",
      "Sample Size: 5\n",
      "Normal Approximation CI: (9.19659031974951, 12.702680482055834)\n",
      "t-Distribution CI: (7.96506231622643, 13.934208485578914)\n",
      "Bootstrap CI: (9.200663987671174, 12.99857297298519)\n",
      "Bayesian Credible Interval: (8.842748524500227, 13.056522277305117)\n",
      "\n",
      "Sample Size: 10\n",
      "Normal Approximation CI: (9.18563060121189, 11.664810730430137)\n",
      "t-Distribution CI: (9.091106517679384, 11.759334813962644)\n",
      "Bootstrap CI: (9.28076739905288, 11.48241827416579)\n",
      "Bayesian Credible Interval: (9.269325874472994, 11.581115457169034)\n",
      "\n",
      "Sample Size: 20\n",
      "Normal Approximation CI: (8.400657657059622, 10.153702738212786)\n",
      "t-Distribution CI: (8.278168915842219, 10.276191479430189)\n",
      "Bootstrap CI: (8.37021683665626, 10.169781921935009)\n",
      "Bayesian Credible Interval: (8.341679180177055, 10.212681215095353)\n",
      "\n",
      "Sample Size: 40\n",
      "Normal Approximation CI: (9.423618710989874, 10.663208775599)\n",
      "t-Distribution CI: (9.426483529122997, 10.660343957465876)\n",
      "Bootstrap CI: (9.434311156264938, 10.611569716858812)\n",
      "Bayesian Credible Interval: (9.445615536096488, 10.641211950492385)\n",
      "\n",
      "Sample Size: 80\n",
      "Normal Approximation CI: (9.675267137376899, 10.55178967795348)\n",
      "t-Distribution CI: (9.671937048013527, 10.555119767316851)\n",
      "Bootstrap CI: (9.689393918507907, 10.541778848732369)\n",
      "Bayesian Credible Interval: (9.678700569994255, 10.548356245336123)\n",
      "\n",
      "Sample Size: 160\n",
      "Normal Approximation CI: (9.845904727085564, 10.465699759390127)\n",
      "t-Distribution CI: (9.872779826990108, 10.438824659485583)\n",
      "Bootstrap CI: (9.877874837318608, 10.431885688626744)\n",
      "Bayesian Credible Interval: (9.874933986843669, 10.436670499632022)\n",
      "\n",
      "Sample Size: 1000\n",
      "Normal Approximation CI: (9.909007122740832, 10.156925135662657)\n",
      "t-Distribution CI: (9.90908898879434, 10.15684326960915)\n",
      "Bootstrap CI: (9.908664217339512, 10.157670520538527)\n",
      "Bayesian Credible Interval: (9.909239072257186, 10.156693186146303)\n"
     ]
    }
   ],
   "source": [
    "import numpy as np\n",
    "import scipy.stats as stats\n",
    "import matplotlib.pyplot as plt\n",
    "\n",
    "# Set parameters\n",
    "mu = 10  # Population mean\n",
    "sigma = 2  # Population standard deviation\n",
    "n_values = [5, 10, 20, 40, 80, 160, 1000]  # Sample sizes\n",
    "confidence_level = 0.95  # Confidence level\n",
    "alpha = 1 - confidence_level  # Alpha for the confidence level\n",
    "\n",
    "# Function to compute confidence intervals using different methods\n",
    "def compute_confidence_intervals(n, data):\n",
    "    # Method 1: Normal approximation (Z-distribution)\n",
    "    z_critical = stats.norm.ppf(1 - alpha / 2)\n",
    "    ci_normal = (np.mean(data) - z_critical * (sigma / np.sqrt(n)),\n",
    "                 np.mean(data) + z_critical * (sigma / np.sqrt(n)))\n",
    "    \n",
    "    # Method 2: t-distribution\n",
    "    t_critical = stats.t.ppf(1 - alpha / 2, df=n - 1)\n",
    "    ci_t = (np.mean(data) - t_critical * (np.std(data, ddof=1) / np.sqrt(n)),\n",
    "            np.mean(data) + t_critical * (np.std(data, ddof=1) / np.sqrt(n)))\n",
    "\n",
    "    # Method 3: Bootstrap confidence interval\n",
    "    n_bootstraps = 10000\n",
    "    bootstrap_means = [np.mean(np.random.choice(data, size=n, replace=True)) for _ in range(n_bootstraps)]\n",
    "    ci_bootstrap = (np.percentile(bootstrap_means, 2.5), np.percentile(bootstrap_means, 97.5))\n",
    "    \n",
    "    # Method 4: Bayesian credible interval (assuming normal prior with non-informative prior)\n",
    "    posterior_mean = np.mean(data)\n",
    "    posterior_sigma = np.std(data, ddof=1) / np.sqrt(n)\n",
    "    ci_bayesian = stats.norm.interval(confidence_level, loc=posterior_mean, scale=posterior_sigma)\n",
    "    \n",
    "    return ci_normal, ci_t, ci_bootstrap, ci_bayesian\n",
    "\n",
    "# Simulate data and compute intervals for each n\n",
    "results = {}\n",
    "for n in n_values:\n",
    "    data = np.random.normal(loc=mu, scale=sigma, size=n)\n",
    "    results[n] = compute_confidence_intervals(n, data)\n",
    "\n",
    "# Display results\n",
    "for n, (ci_normal, ci_t, ci_bootstrap, ci_bayesian) in results.items():\n",
    "    print(f\"\\nSample Size: {n}\")\n",
    "    print(f\"Normal Approximation CI: {ci_normal}\")\n",
    "    print(f\"t-Distribution CI: {ci_t}\")\n",
    "    print(f\"Bootstrap CI: {ci_bootstrap}\")\n",
    "    print(f\"Bayesian Credible Interval: {ci_bayesian}\")\n"
   ]
  },
  {
   "cell_type": "code",
   "execution_count": null,
   "id": "d874c31c",
   "metadata": {},
   "outputs": [],
   "source": []
  }
 ],
 "metadata": {
  "kernelspec": {
   "display_name": "Python 3 (ipykernel)",
   "language": "python",
   "name": "python3"
  },
  "language_info": {
   "codemirror_mode": {
    "name": "ipython",
    "version": 3
   },
   "file_extension": ".py",
   "mimetype": "text/x-python",
   "name": "python",
   "nbconvert_exporter": "python",
   "pygments_lexer": "ipython3",
   "version": "3.11.4"
  }
 },
 "nbformat": 4,
 "nbformat_minor": 5
}
